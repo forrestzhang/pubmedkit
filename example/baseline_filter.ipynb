{
 "cells": [
  {
   "cell_type": "code",
   "execution_count": 1,
   "metadata": {},
   "outputs": [],
   "source": [
    "import sys \n",
    "sys.path.append(\"..\") \n",
    "from pubmedkit.baseline import baseline_to_list_keywords_filter\n",
    "from glob import glob\n",
    "import pandas as pd"
   ]
  },
  {
   "cell_type": "code",
   "execution_count": 2,
   "metadata": {},
   "outputs": [],
   "source": [
    "dir = '../testdata/updatefiles/'\n",
    "\n",
    "file1 = dir+'pubmed24n1220.xml.gz'"
   ]
  },
  {
   "cell_type": "code",
   "execution_count": 3,
   "metadata": {},
   "outputs": [],
   "source": [
    "keywords = [\n",
    "        \"promoter\",\n",
    "        \"cis-regulatory\",\n",
    "        \"cis-element\",\n",
    "        \"enhancer\",\n",
    "        \"silencer\",\n",
    "        \"operator\",\n",
    "    ]"
   ]
  },
  {
   "cell_type": "code",
   "execution_count": 4,
   "metadata": {},
   "outputs": [],
   "source": [
    "reflist = baseline_to_list_keywords_filter(file1, keywords)"
   ]
  },
  {
   "cell_type": "code",
   "execution_count": 5,
   "metadata": {},
   "outputs": [],
   "source": [
    "df = pd.DataFrame(reflist)"
   ]
  },
  {
   "cell_type": "code",
   "execution_count": 8,
   "metadata": {},
   "outputs": [
    {
     "data": {
      "text/plain": [
       "'The weakly acidic fraction (WAF) of cigarette smoke particulate matter was fractioned by silica get chromatography. We assayed the various primary subfractions for potential tumor-promoting activity by measuring the incorporation of tritiated thymidine into mouse epidermal DNA as induced by these subfractions. Based on these results and on chemical composition, the primary subfractions, were then combined into four major subfractions and tested on initiated mouse skin for tumor-promoting activity by long-term application. Two of these subfractions (40% of WAF) were inactive, whereas the other two (18 and 35% of WAF) showed tumor-promoting activity. The two active portions were then further chromatographed and tested by the short-term bioassay. Some major components of the resulting active fractions included alkyl-2-cyclopenten-2-ol-1-ones, catechols, hydroquinone, fatty acids, and 3-hydroxypyridines. Among these components, catechol, hydroquinone, 3-hydroxypyridine, 6-methyl-3-hydroxypyridine, linolenic acid, and linoleic acid were inactive as tumor promoters in the experimental animal. The activity of the alkyl-2-cyclopenten-2-ol-1-ones is unknown. Other components remain to be identified.'"
      ]
     },
     "execution_count": 8,
     "metadata": {},
     "output_type": "execute_result"
    }
   ],
   "source": [
    "df.loc[0].abstract             "
   ]
  },
  {
   "cell_type": "code",
   "execution_count": null,
   "metadata": {},
   "outputs": [],
   "source": []
  }
 ],
 "metadata": {
  "kernelspec": {
   "display_name": "venv",
   "language": "python",
   "name": "python3"
  },
  "language_info": {
   "codemirror_mode": {
    "name": "ipython",
    "version": 3
   },
   "file_extension": ".py",
   "mimetype": "text/x-python",
   "name": "python",
   "nbconvert_exporter": "python",
   "pygments_lexer": "ipython3",
   "version": "3.11.5"
  }
 },
 "nbformat": 4,
 "nbformat_minor": 2
}
